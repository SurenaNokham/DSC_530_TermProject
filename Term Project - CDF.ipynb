{
 "cells": [
  {
   "cell_type": "code",
   "execution_count": null,
   "id": "c2f85a7c",
   "metadata": {},
   "outputs": [],
   "source": [
    "# DSC 530\n",
    "# Week 12\n",
    "# Term Project (12.2)\n",
    "# Author: Surena Nokham\n",
    "# 06/02/2023"
   ]
  },
  {
   "cell_type": "markdown",
   "id": "e4bf8ad2",
   "metadata": {},
   "source": [
    "# Create 1 CDF with one of your variables, using page 41-44 as your guide, what does this tell you about your variable and how does it address the question you are trying to answer (Chapter 4)."
   ]
  },
  {
   "cell_type": "code",
   "execution_count": 1,
   "id": "9ff4c8c4",
   "metadata": {},
   "outputs": [],
   "source": [
    "import pandas as pd\n",
    "import thinkstats2\n",
    "import thinkplot\n",
    "\n",
    "# Load the dataset\n",
    "outbreaks_data = pd.read_csv('FoodborneOutbreaks.csv')"
   ]
  },
  {
   "cell_type": "code",
   "execution_count": 3,
   "id": "e3d1cbf8",
   "metadata": {},
   "outputs": [],
   "source": [
    "# Create a mapping dictionary for months\n",
    "month_mapping = {\n",
    "    'January': 1,\n",
    "    'February': 2,\n",
    "    'March': 3,\n",
    "    'April': 4,\n",
    "    'May': 5,\n",
    "    'June': 6,\n",
    "    'July': 7,\n",
    "    'August': 8,\n",
    "    'September': 9,\n",
    "    'October': 10,\n",
    "    'November': 11,\n",
    "    'December': 12\n",
    "}\n",
    "\n",
    "# Convert the \"Month\" column to integers\n",
    "outbreaks_data['Month'] = outbreaks_data['Month'].map(month_mapping)"
   ]
  },
  {
   "cell_type": "code",
   "execution_count": 5,
   "id": "5840dc7e",
   "metadata": {},
   "outputs": [
    {
     "data": {
      "image/png": "[encoded data removed]",
      "text/plain": [
       "<Figure size 640x480 with 1 Axes>"
      ]
     },
     "metadata": {},
     "output_type": "display_data"
    },
    {
     "data": {
      "text/plain": [
       "<Figure size 800x600 with 0 Axes>"
      ]
     },
     "metadata": {},
     "output_type": "display_data"
    }
   ],
   "source": [
    "# Filter the data to include only relevant columns and non-null values\n",
    "data = outbreaks_data['Month'].dropna()\n",
    "\n",
    "# Compute the CDF\n",
    "cdf = thinkstats2.Cdf(data)\n",
    "\n",
    "# Plot the CDF\n",
    "thinkplot.Cdf(cdf)\n",
    "thinkplot.Config(xlabel='Month', ylabel='CDF', title='CDF of Foodborne Illnesses by Month')\n",
    "\n",
    "# Show the plot\n",
    "thinkplot.show()"
   ]
  },
  {
   "cell_type": "code",
   "execution_count": null,
   "id": "7f49673a",
   "metadata": {},
   "outputs": [],
   "source": [
    "# The CDF shows how the cumulative probability of foodborne illnesses changes as we move through the months.\n",
    "# If the curve is steeper in certain months, it suggests a higher prevalence of foodborne illnesses during those \n",
    "# months compared to others. If the curve is less steep, it indicates a lower prevalence of foodborne illnesses \n",
    "# during those months. \n",
    "\n",
    "# As shown above, the CDF shows a slightly steeper (blink and you'll miss it) curve during certain months\n",
    "# (e.g., spring/summer months), this would suggests there is a higher prevalence of foodborne illnesses during \n",
    "# those seasons. Overall, there are minimal changes through the months, indicating a more consistent \n",
    "# prevalence of foodborne illnesses throughout the year."
   ]
  }
 ],
 "metadata": {
  "kernelspec": {
   "display_name": "Python 3 (ipykernel)",
   "language": "python",
   "name": "python3"
  },
  "language_info": {
   "codemirror_mode": {
    "name": "ipython",
    "version": 3
   },
   "file_extension": ".py",
   "mimetype": "text/x-python",
   "name": "python",
   "nbconvert_exporter": "python",
   "pygments_lexer": "ipython3",
   "version": "3.9.13"
  }
 },
 "nbformat": 4,
 "nbformat_minor": 5
}
