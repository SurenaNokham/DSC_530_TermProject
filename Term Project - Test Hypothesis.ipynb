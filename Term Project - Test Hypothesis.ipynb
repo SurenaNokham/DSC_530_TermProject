{
 "cells": [
  {
   "cell_type": "code",
   "execution_count": 1,
   "id": "a0c14701",
   "metadata": {},
   "outputs": [],
   "source": [
    "# DSC 530\n",
    "# Week 12\n",
    "# Term Project (12.2)\n",
    "# Author: Surena Nokham\n",
    "# 06/02/2023"
   ]
  },
  {
   "cell_type": "markdown",
   "id": "36ab55f5",
   "metadata": {},
   "source": [
    "# Conduct a test on your hypothesis using one of the methods covered in Chapter 9."
   ]
  },
  {
   "cell_type": "code",
   "execution_count": null,
   "id": "207935da",
   "metadata": {},
   "outputs": [],
   "source": [
    "# Null Hypothesis: \n",
    "# There is no significant difference in the number of outbreak cases between summer months and other seasons."
   ]
  },
  {
   "cell_type": "code",
   "execution_count": 5,
   "id": "136308b3",
   "metadata": {},
   "outputs": [],
   "source": [
    "# Import libraries\n",
    "import pandas as pd\n",
    "import numpy as np"
   ]
  },
  {
   "cell_type": "code",
   "execution_count": null,
   "id": "1724c28a",
   "metadata": {},
   "outputs": [],
   "source": [
    "# Read csv\n",
    "outbreaks_data = pd.read_csv('FoodborneOutbreaks.csv')"
   ]
  },
  {
   "cell_type": "code",
   "execution_count": 7,
   "id": "c6a4195b",
   "metadata": {},
   "outputs": [],
   "source": [
    "# Extract the relevant columns from the dataset\n",
    "months = outbreaks_data['Month']\n",
    "cases = outbreaks_data['Illnesses']\n",
    "\n",
    "# Create a boolean mask to identify summer months (June, July, August)\n",
    "is_summer = (months.isin(['June', 'July', 'August']))\n",
    "\n",
    "# Separate the cases for summer and non-summer months\n",
    "summer_cases = cases[is_summer]\n",
    "non_summer_cases = cases[~is_summer]"
   ]
  },
  {
   "cell_type": "code",
   "execution_count": 8,
   "id": "06205d36",
   "metadata": {},
   "outputs": [],
   "source": [
    "# Calculate observed test statistic\n",
    "observed_statistic = np.mean(summer_cases) - np.mean(non_summer_cases)"
   ]
  },
  {
   "cell_type": "code",
   "execution_count": 9,
   "id": "101540c6",
   "metadata": {},
   "outputs": [],
   "source": [
    "# Perform permutation test\n",
    "num_permutations = 1000\n",
    "test_statistics = []\n",
    "\n",
    "for _ in range(num_permutations):\n",
    "    # Shuffle the summer and non-summer cases\n",
    "    shuffled_cases = np.random.permutation(cases)\n",
    "\n",
    "    # Calculate the test statistic using shuffled cases\n",
    "    shuffled_summer_cases = shuffled_cases[is_summer]\n",
    "    shuffled_non_summer_cases = shuffled_cases[~is_summer]\n",
    "    test_statistic = np.mean(shuffled_summer_cases) - np.mean(shuffled_non_summer_cases)\n",
    "\n",
    "    test_statistics.append(test_statistic)"
   ]
  },
  {
   "cell_type": "code",
   "execution_count": 10,
   "id": "e6d95e45",
   "metadata": {},
   "outputs": [],
   "source": [
    "# Calculate the p-value\n",
    "p_value = (np.abs(test_statistics) >= np.abs(observed_statistic)).mean()"
   ]
  },
  {
   "cell_type": "code",
   "execution_count": 12,
   "id": "a32d18f2",
   "metadata": {},
   "outputs": [
    {
     "name": "stdout",
     "output_type": "stream",
     "text": [
      "There is not enough evidence to reject the null hypothesis.\n"
     ]
    }
   ],
   "source": [
    "# Interpret results\n",
    "alpha = 0.05  # significance level\n",
    "\n",
    "if p_value < alpha:\n",
    "    print(\"There is evidence to reject the null hypothesis.\")\n",
    "else:\n",
    "    print(\"There is not enough evidence to reject the null hypothesis.\")"
   ]
  }
 ],
 "metadata": {
  "kernelspec": {
   "display_name": "Python 3 (ipykernel)",
   "language": "python",
   "name": "python3"
  },
  "language_info": {
   "codemirror_mode": {
    "name": "ipython",
    "version": 3
   },
   "file_extension": ".py",
   "mimetype": "text/x-python",
   "name": "python",
   "nbconvert_exporter": "python",
   "pygments_lexer": "ipython3",
   "version": "3.9.13"
  }
 },
 "nbformat": 4,
 "nbformat_minor": 5
}
