{
 "cells": [
  {
   "cell_type": "code",
   "execution_count": 1,
   "id": "297bbd25",
   "metadata": {},
   "outputs": [],
   "source": [
    "# DSC 530\n",
    "# Week 12\n",
    "# Term Project (12.2)\n",
    "# Author: Surena Nokham\n",
    "# 06/02/2023"
   ]
  },
  {
   "cell_type": "markdown",
   "id": "f830c291",
   "metadata": {},
   "source": [
    "# Include the other descriptive characteristics about the variables: Mean, Mode, Spread, and Tails (Chapter 2)."
   ]
  },
  {
   "cell_type": "code",
   "execution_count": 2,
   "id": "67684aab",
   "metadata": {},
   "outputs": [],
   "source": [
    "# In the Foodborne Outbreak dataset, there were a mix of variables that were considered categorical data and \n",
    "# numerical data. The variables I used (Year, Month, State, Ingredient, and Genus) made the best sense to analyze\n",
    "# for my hypothesis. The variables could be converted numberically, but to calculate the mean, median, mode, \n",
    "# spread, and tail for them would not make sense statistically. "
   ]
  },
  {
   "cell_type": "code",
   "execution_count": 2,
   "id": "e249c908",
   "metadata": {},
   "outputs": [],
   "source": [
    "# Import pandas with its commonly used alias\n",
    "import pandas as pd\n",
    "\n",
    "# Read csv file and assign data to variable\n",
    "outbreaks_data = pd.read_csv('FoodborneOutbreaks.csv')"
   ]
  },
  {
   "cell_type": "markdown",
   "id": "fc8579bf",
   "metadata": {},
   "source": [
    "# Variable 1 - Month"
   ]
  },
  {
   "cell_type": "code",
   "execution_count": 4,
   "id": "5f73b20c",
   "metadata": {},
   "outputs": [],
   "source": [
    "# Create a mapping dictionary for months\n",
    "month_mapping = {\n",
    "    'January': 1,\n",
    "    'February': 2,\n",
    "    'March': 3,\n",
    "    'April': 4,\n",
    "    'May': 5,\n",
    "    'June': 6,\n",
    "    'July': 7,\n",
    "    'August': 8,\n",
    "    'September': 9,\n",
    "    'October': 10,\n",
    "    'November': 11,\n",
    "    'December': 12}\n",
    "\n",
    "# Convert the 'Month' column to integers using the mapping dictionary\n",
    "outbreaks_data['Month'] = outbreaks_data['Month'].map(month_mapping)"
   ]
  },
  {
   "cell_type": "code",
   "execution_count": 5,
   "id": "33b65330",
   "metadata": {},
   "outputs": [
    {
     "name": "stdout",
     "output_type": "stream",
     "text": [
      "Mean: 6.420119562976706\n",
      "Median: 6.0\n",
      "Mode: 0    6\n",
      "Name: Month, dtype: int64\n",
      "Tail (Minimum): 1\n",
      "Tail (Maximum): 12\n",
      "Spread (Range): 11\n"
     ]
    }
   ],
   "source": [
    "# Convert 'Month' column to numeric\n",
    "outbreaks_data['Month'] = pd.to_numeric(outbreaks_data['Month'], errors='coerce')\n",
    "\n",
    "# Calculate the mean\n",
    "mean_month = outbreaks_data['Month'].mean()\n",
    "\n",
    "# Calculate the median\n",
    "median_month = outbreaks_data['Month'].median()\n",
    "\n",
    "# Calculate the mode\n",
    "mode_month = outbreaks_data['Month'].mode()\n",
    "\n",
    "# Calculate the spread (range)\n",
    "spread_month = outbreaks_data['Month'].max() - outbreaks_data['Month'].min()\n",
    "\n",
    "# Calculate the tail (minimum and maximum values)\n",
    "min_month = outbreaks_data['Month'].min()\n",
    "max_month = outbreaks_data['Month'].max()\n",
    "\n",
    "print(\"Mean:\", mean_month)\n",
    "print(\"Median:\", median_month)\n",
    "print(\"Mode:\", mode_month)\n",
    "print(\"Tail (Minimum):\", min_month)\n",
    "print(\"Tail (Maximum):\", max_month)\n",
    "print(\"Spread (Range):\", spread_month)"
   ]
  },
  {
   "cell_type": "markdown",
   "id": "ba6fa219",
   "metadata": {},
   "source": [
    "# Variable 2 - Year"
   ]
  },
  {
   "cell_type": "code",
   "execution_count": 6,
   "id": "dbaa3c30",
   "metadata": {},
   "outputs": [
    {
     "name": "stdout",
     "output_type": "stream",
     "text": [
      "Mean: 2009.8324056895485\n",
      "Median: 2010.0\n",
      "Mode: 2006\n",
      "Tail (Minimum): 2005\n",
      "Tail (Maximum): 2015\n",
      "Spread (Range): 10\n"
     ]
    }
   ],
   "source": [
    "# Convert \"Year\" data to a numeric data type\n",
    "outbreaks_data['Year'] = pd.to_numeric(outbreaks_data['Year'], errors='coerce')\n",
    "\n",
    "# Calculate the mean\n",
    "mean_year = outbreaks_data['Year'].mean()\n",
    "\n",
    "# Calculate the median\n",
    "median_year = outbreaks_data['Year'].median()\n",
    "\n",
    "# Calculate the mode\n",
    "mode_year = outbreaks_data['Year'].mode().values[0]\n",
    "\n",
    "# Calculate the spread (range)\n",
    "spread_year = outbreaks_data['Year'].max() - outbreaks_data['Year'].min()\n",
    "\n",
    "# Calculate the tail (minimum and maximum values)\n",
    "min_year = outbreaks_data['Year'].min()\n",
    "max_year = outbreaks_data['Year'].max()\n",
    "\n",
    "print(\"Mean:\", mean_year)\n",
    "print(\"Median:\", median_year)\n",
    "print(\"Mode:\", mode_year)\n",
    "print(\"Tail (Minimum):\", min_year)\n",
    "print(\"Tail (Maximum):\", max_year)\n",
    "print(\"Spread (Range):\", spread_year)"
   ]
  },
  {
   "cell_type": "markdown",
   "id": "a31e48ca",
   "metadata": {},
   "source": [
    "# Variable 3 - State"
   ]
  },
  {
   "cell_type": "code",
   "execution_count": 7,
   "id": "31f6a431",
   "metadata": {},
   "outputs": [],
   "source": [
    "# Add mappings for all states\n",
    "state_mapping = {'Alabama': 1, 'Alaska': 2, 'Arizona': 3, 'Arkansas': 4, 'California': 5,\n",
    "                 'Colorado': 6, 'Connecticut': 7, 'Delaware': 8, 'Florida': 9, 'Georgia': 10,\n",
    "                 'Hawaii': 11, 'Idaho': 12, 'Illinois': 13, 'Indiana': 14, 'Iowa': 15,\n",
    "                 'Kansas':16, 'Kentucky': 17, 'Louisiana': 18, 'Maine': 19, 'Maryland': 20,\n",
    "                 'Massachusetts': 21, 'Michigan': 22, 'Minnesota': 23, 'Mississippi': 24, 'Missouri': 25,\n",
    "                 'Montana': 26, 'Nebraska': 27, 'Nevada': 28, 'New Hampshire': 29, 'New Jersey': 30,\n",
    "                 'New Mexico': 31, 'New York': 32, 'North Carolina': 33, 'North Dakota': 34, 'Ohio': 35,\n",
    "                 'Oklahoma': 36, 'Oregon': 37, 'Pennsylvania': 38, 'Rhode Island': 39, 'South Carolina': 40, \n",
    "                 'South Dakota': 41, 'Tennessee': 42, 'Texas': 43, 'Utah': 44, 'Vermont': 45,\n",
    "                 'Virginia': 46, 'Washington': 47, 'West Virginia': 48, 'Wisconsin': 49, 'Wyoming': 50,\n",
    "                 'Multistate': 51}\n",
    "\n",
    "# Map the state names to integers using the state_mapping dictionary\n",
    "outbreaks_data['State'] = outbreaks_data['State'].map(state_mapping)"
   ]
  },
  {
   "cell_type": "code",
   "execution_count": 8,
   "id": "0d5c9788",
   "metadata": {},
   "outputs": [
    {
     "name": "stdout",
     "output_type": "stream",
     "text": [
      "Mean: 25.463930348258707\n",
      "Median: 23.0\n",
      "Mode: 0    23.0\n",
      "Name: State, dtype: float64\n",
      "Tail (Minimum): 1.0\n",
      "Tail (Maximum): 51.0\n",
      "Spread (Range): 50.0\n"
     ]
    }
   ],
   "source": [
    "# Convert \"State\" data to a numeric data type\n",
    "outbreaks_data['State'] = pd.to_numeric(outbreaks_data['State'], errors='coerce')\n",
    "\n",
    "# Calculate the mean\n",
    "mean_state = outbreaks_data['State'].mean()\n",
    "\n",
    "# Calculate the median\n",
    "median_state = outbreaks_data['State'].median()\n",
    "\n",
    "# Calculate the mode\n",
    "mode_state = outbreaks_data['State'].mode()\n",
    "\n",
    "# Calculate the spread (range)\n",
    "spread_state = outbreaks_data['State'].max() - outbreaks_data['State'].min()\n",
    "\n",
    "# Calculate the tail (minimum and maximum values)\n",
    "min_state = outbreaks_data['State'].min()\n",
    "max_state = outbreaks_data['State'].max()\n",
    "\n",
    "print(\"Mean:\", mean_state)\n",
    "print(\"Median:\", median_state)\n",
    "print(\"Mode:\", mode_state)\n",
    "print(\"Tail (Minimum):\", min_state)\n",
    "print(\"Tail (Maximum):\", max_state)\n",
    "print(\"Spread (Range):\", spread_state)"
   ]
  },
  {
   "cell_type": "markdown",
   "id": "0dfed85f",
   "metadata": {},
   "source": [
    "# Variable 4 - Ingredients"
   ]
  },
  {
   "cell_type": "code",
   "execution_count": 4,
   "id": "3a6c588c",
   "metadata": {},
   "outputs": [
    {
     "name": "stdout",
     "output_type": "stream",
     "text": [
      "Mean: nan\n",
      "Median: nan\n",
      "Mode: Series([], Name: Ingredient, dtype: float64)\n",
      "Tail (Minimum): nan\n",
      "Tail (Maximum): nan\n",
      "Spread (Range): nan\n"
     ]
    }
   ],
   "source": [
    "# Convert \"Ingredient\" data to a numeric data type\n",
    "outbreaks_data['Ingredient'] = pd.to_numeric(outbreaks_data['Ingredient'], errors='coerce')\n",
    "\n",
    "# Calculate the mean\n",
    "mean_ingredient = outbreaks_data['Ingredient'].mean()\n",
    "\n",
    "# Calculate the median\n",
    "median_ingredient = outbreaks_data['Ingredient'].median()\n",
    "\n",
    "# Calculate the mode\n",
    "mode_ingredient = outbreaks_data['Ingredient'].mode()\n",
    "\n",
    "# Calculate the mean\n",
    "mean_ingredient = outbreaks_data['Ingredient'].mean()\n",
    "\n",
    "# Calculate the median\n",
    "median_ingredient = outbreaks_data['Ingredient'].median()\n",
    "\n",
    "# Calculate the mode\n",
    "mode_ingredient = outbreaks_data['Ingredient'].mode()\n",
    "\n",
    "# Calculate the spread (range)\n",
    "spread_ingredient = outbreaks_data['Ingredient'].max() - outbreaks_data['Ingredient'].min()\n",
    "\n",
    "# Calculate the tail (minimum and maximum values)\n",
    "min_ingredient = outbreaks_data['Ingredient'].min()\n",
    "max_ingredient = outbreaks_data['Ingredient'].max()\n",
    "\n",
    "print(\"Mean:\", mean_ingredient)\n",
    "print(\"Median:\", median_ingredient)\n",
    "print(\"Mode:\", mode_ingredient)\n",
    "print(\"Tail (Minimum):\", min_ingredient)\n",
    "print(\"Tail (Maximum):\", max_ingredient)\n",
    "print(\"Spread (Range):\", spread_ingredient)"
   ]
  },
  {
   "cell_type": "markdown",
   "id": "6840e001",
   "metadata": {},
   "source": [
    "# Variable 5 - Genus"
   ]
  },
  {
   "cell_type": "code",
   "execution_count": 9,
   "id": "c1f8316e",
   "metadata": {},
   "outputs": [],
   "source": [
    "# Create a dictionary to map unique values to integer values\n",
    "genus_mapping = {genus: i+1 for i, genus in enumerate(outbreaks_data['Genus'].unique())}\n",
    "\n",
    "# Map the values in the \"Genus\" column to integers using the dictionary\n",
    "outbreaks_data['Genus'] = outbreaks_data['Genus'].map(genus_mapping)"
   ]
  },
  {
   "cell_type": "code",
   "execution_count": 10,
   "id": "25e6def4",
   "metadata": {},
   "outputs": [
    {
     "name": "stdout",
     "output_type": "stream",
     "text": [
      "Mean: 14.451659451659452\n",
      "Median: 16.0\n",
      "Mode: 0    16\n",
      "Name: Genus, dtype: int64\n",
      "Tail (Minimum): 1\n",
      "Tail (Maximum): 39\n",
      "Spread (Range): 38\n"
     ]
    }
   ],
   "source": [
    "# Convert \"State\" data to a numeric data type\n",
    "outbreaks_data['Genus'] = pd.to_numeric(outbreaks_data['Genus'], errors='coerce')\n",
    "\n",
    "# Calculate the mean\n",
    "mean_genus = outbreaks_data['Genus'].mean()\n",
    "\n",
    "# Calculate the median\n",
    "median_genus = outbreaks_data['Genus'].median()\n",
    "\n",
    "# Calculate the mode\n",
    "mode_genus = outbreaks_data['Genus'].mode()\n",
    "\n",
    "# Calculate the spread (range)\n",
    "spread_genus = outbreaks_data['Genus'].max() - outbreaks_data['Genus'].min()\n",
    "\n",
    "# Calculate the tail (minimum and maximum values)\n",
    "min_genus = outbreaks_data['Genus'].min()\n",
    "max_genus = outbreaks_data['Genus'].max()\n",
    "\n",
    "print(\"Mean:\", mean_genus)\n",
    "print(\"Median:\", median_genus)\n",
    "print(\"Mode:\", mode_genus)\n",
    "print(\"Tail (Minimum):\", min_genus)\n",
    "print(\"Tail (Maximum):\", max_genus)\n",
    "print(\"Spread (Range):\", spread_genus)"
   ]
  }
 ],
 "metadata": {
  "kernelspec": {
   "display_name": "Python 3 (ipykernel)",
   "language": "python",
   "name": "python3"
  },
  "language_info": {
   "codemirror_mode": {
    "name": "ipython",
    "version": 3
   },
   "file_extension": ".py",
   "mimetype": "text/x-python",
   "name": "python",
   "nbconvert_exporter": "python",
   "pygments_lexer": "ipython3",
   "version": "3.9.13"
  }
 },
 "nbformat": 4,
 "nbformat_minor": 5
}
