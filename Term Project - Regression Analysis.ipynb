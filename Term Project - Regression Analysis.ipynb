{
 "cells": [
  {
   "cell_type": "code",
   "execution_count": 1,
   "id": "16a859a3",
   "metadata": {},
   "outputs": [],
   "source": [
    "# DSC 530\n",
    "# Week 12\n",
    "# Term Project (12.2)\n",
    "# Author: Surena Nokham\n",
    "# 06/02/2023"
   ]
  },
  {
   "cell_type": "markdown",
   "id": "b8bd89dc",
   "metadata": {},
   "source": [
    "# For this project, conduct a regression analysis on either one dependent and one explanatory variable, or multiple explanatory variables (Chapter 10 & 11)."
   ]
  },
  {
   "cell_type": "code",
   "execution_count": 2,
   "id": "654b082c",
   "metadata": {},
   "outputs": [],
   "source": [
    "# Import libraries\n",
    "import pandas as pd\n",
    "import numpy as np\n",
    "import statsmodels.api as sm"
   ]
  },
  {
   "cell_type": "code",
   "execution_count": 3,
   "id": "81998840",
   "metadata": {},
   "outputs": [],
   "source": [
    "# Load csv\n",
    "outbreaks_data = pd.read_csv('FoodborneOutbreaks.csv')"
   ]
  },
  {
   "cell_type": "code",
   "execution_count": 4,
   "id": "3e53756e",
   "metadata": {},
   "outputs": [],
   "source": [
    "# Convert 'Month' column to datetime objects\n",
    "outbreaks_data['Month'] = pd.to_datetime(outbreaks_data['Month'], format='%B')\n",
    "\n",
    "# Extract the month component as numeric values\n",
    "outbreaks_data['Month'] = outbreaks_data['Month'].dt.month"
   ]
  },
  {
   "cell_type": "code",
   "execution_count": 5,
   "id": "783b0c62",
   "metadata": {},
   "outputs": [
    {
     "name": "stdout",
     "output_type": "stream",
     "text": [
      "                            OLS Regression Results                            \n",
      "==============================================================================\n",
      "Dep. Variable:              Illnesses   R-squared:                       0.001\n",
      "Model:                            OLS   Adj. R-squared:                  0.001\n",
      "Method:                 Least Squares   F-statistic:                     6.175\n",
      "Date:                Fri, 02 Jun 2023   Prob (F-statistic):             0.0130\n",
      "Time:                        22:37:09   Log-Likelihood:                -27149.\n",
      "No. Observations:                4851   AIC:                         5.430e+04\n",
      "Df Residuals:                    4849   BIC:                         5.432e+04\n",
      "Df Model:                           1                                         \n",
      "Covariance Type:            nonrobust                                         \n",
      "==============================================================================\n",
      "                 coef    std err          t      P>|t|      [0.025      0.975]\n",
      "------------------------------------------------------------------------------\n",
      "const         29.4794      2.031     14.513      0.000      25.497      33.462\n",
      "Month         -0.6977      0.281     -2.485      0.013      -1.248      -0.147\n",
      "==============================================================================\n",
      "Omnibus:                     9373.686   Durbin-Watson:                   1.203\n",
      "Prob(Omnibus):                  0.000   Jarque-Bera (JB):         22317626.950\n",
      "Skew:                          15.000   Prob(JB):                         0.00\n",
      "Kurtosis:                     333.930   Cond. No.                         15.9\n",
      "==============================================================================\n",
      "\n",
      "Notes:\n",
      "[1] Standard Errors assume that the covariance matrix of the errors is correctly specified.\n"
     ]
    }
   ],
   "source": [
    "# Perform regression analysis\n",
    "y = outbreaks_data['Illnesses']\n",
    "x = outbreaks_data['Month']\n",
    "x = sm.add_constant(x)\n",
    "\n",
    "model = sm.OLS(y, x)\n",
    "results = model.fit()\n",
    "\n",
    "print(results.summary())"
   ]
  },
  {
   "cell_type": "code",
   "execution_count": null,
   "id": "f8a3004a",
   "metadata": {},
   "outputs": [],
   "source": []
  }
 ],
 "metadata": {
  "kernelspec": {
   "display_name": "Python 3 (ipykernel)",
   "language": "python",
   "name": "python3"
  },
  "language_info": {
   "codemirror_mode": {
    "name": "ipython",
    "version": 3
   },
   "file_extension": ".py",
   "mimetype": "text/x-python",
   "name": "python",
   "nbconvert_exporter": "python",
   "pygments_lexer": "ipython3",
   "version": "3.9.13"
  }
 },
 "nbformat": 4,
 "nbformat_minor": 5
}
